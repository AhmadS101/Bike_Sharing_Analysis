{
 "cells": [
  {
   "cell_type": "markdown",
   "metadata": {},
   "source": [
    "# For first preprocessing #\n",
    "\n"
   ]
  },
  {
   "cell_type": "markdown",
   "metadata": {},
   "source": [
    "we **convert** (`Encode`) some row data to readable data which can be understand by **human**\n",
    "\n",
    "**Ex**: converting sesonal data from 1:4 to four seasons name"
   ]
  },
  {
   "cell_type": "markdown",
   "metadata": {},
   "source": [
    "**Assertion** is sanity `checks` embedded within code to verify **certain conditions**. When an assertion fails (i.e., the condition is not met), it raises an exception, signaling that something unexpected has occurred.\n",
    "\n",
    "**The assertion checks whether the sum of two columns—casual and registered—equals the values in the cnt column.**\n",
    "\n",
    "This message helps **developers understand** what went wrong when the **assertion fails** which output is:\n",
    "\n",
    "'Sum of casual and registered rides not equal to total number of rides'\n"
   ]
  },
  {
   "cell_type": "code",
   "execution_count": null,
   "metadata": {
    "vscode": {
     "languageId": "plaintext"
    }
   },
   "outputs": [],
   "source": []
  }
 ],
 "metadata": {
  "language_info": {
   "name": "python"
  }
 },
 "nbformat": 4,
 "nbformat_minor": 2
}
